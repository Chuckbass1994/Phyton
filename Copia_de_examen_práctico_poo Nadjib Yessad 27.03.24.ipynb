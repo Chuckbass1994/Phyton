{
  "nbformat": 4,
  "nbformat_minor": 0,
  "metadata": {
    "colab": {
      "provenance": []
    },
    "kernelspec": {
      "name": "python3",
      "display_name": "Python 3"
    },
    "language_info": {
      "name": "python"
    }
  },
  "cells": [
    {
      "cell_type": "markdown",
      "source": [
        "# **Examen práctico de Python POO💻 🐍**\n"
      ],
      "metadata": {
        "id": "WuAQCwYFxgc5"
      }
    },
    {
      "cell_type": "markdown",
      "source": [
        "***🚙 Primer ejercicio:*** Vamos a modelar siguiendo el paradigma POO los vehículos. Tendremos que un vehículo tiene siempre una fecha de fabricación (texto), una marca, un modelo, un consumo (l/100 km) y un tipo de motor (combustión, eléctrico o híbrido). Conocemos dos grandes grupos de vehículos, los coches y motocicletas. A parte de, lógicamente las características de los vehículos, los coches tienen número de puertas, si tienen airbag o no y una lista de fechas (texto) en las que han pasado la ITV. Por su parte las motos, tienen cilindrada.\n"
      ],
      "metadata": {
        "id": "rRXVGdGqyFgO"
      }
    },
    {
      "cell_type": "code",
      "source": [
        "class Vehiculo:\n",
        "  def __init__ (self, marca, modelo, fechaf, consumo , tp_motor, itv):\n",
        "    self._marca= marca\n",
        "    self._modelo= modelo\n",
        "    self._fechaf= fechaf\n",
        "    self._consumo = consumo\n",
        "    self._tp_motor = tp_motor\n",
        "    self._itv = itv\n",
        "\n",
        "  def getMarca(self):\n",
        "    return self._marca\n",
        "\n",
        "  def setMarca(self,marca):\n",
        "    self._marca= marca\n",
        "\n",
        "  def getModelo(self):\n",
        "    return self._modelo\n",
        "\n",
        "  def setModelo(self, modelo):\n",
        "    self._modelo = modelo\n",
        "\n",
        "  def getFechaf(self):\n",
        "    return self._fechaf\n",
        "\n",
        "  def setFechaf(self,fechaf):\n",
        "    self._fechaf =fechaf\n",
        "\n",
        "  def getConsumo(self):\n",
        "    return self._consumo\n",
        "\n",
        "  def setConsumo(self, consumo):\n",
        "    self._consumo = consumo\n",
        "\n",
        "  def getTPmotor(self):\n",
        "    return self._tp_motor\n",
        "\n",
        "  def setTPmotor(self, tpmotor):\n",
        "    self._tp_motor = tp_motor\n",
        "\n",
        "  def getitv(self):\n",
        "    return self._itv\n",
        "\n",
        "  def setitv(self,itv):\n",
        "    self._itv = itv\n",
        "\n",
        "class coche(Vehiculo):\n",
        "  def __init__(self, marca ,modelo , fechaf, consumo , tp_motor,itv,airbag,n_puertas):\n",
        "    super().__init__(marca ,modelo , fechaf, consumo , tp_motor,itv)\n",
        "\n",
        "    self._n_puertas = n_puertas\n",
        "    self._airbag = airbag\n",
        "\n",
        "  def setn_puertas(self, n_puertas):\n",
        "    self._n_puertasr = n_puertas\n",
        "\n",
        "  def getn_puertas(self):\n",
        "    return self._n_puertas\n",
        "\n",
        "  def setairbag(self):\n",
        "    self._airbag = airbag\n",
        "\n",
        "  def getairbag(self):\n",
        "    return self._airbag\n",
        "\n",
        "class moto(Vehiculo):\n",
        "  def __init__(self, marca, modelo , fechaf, consumo , tp_motor, itv, cilindrada):\n",
        "    super().__init__(marca ,modelo , fechaf, consumo , tp_motor, itv)\n",
        "\n",
        "    self.cilindrada= cilindrada\n",
        "\n",
        "  def getcilindrada(self):\n",
        "    return self._cilindrada\n",
        "\n",
        "  def setcilindrada(self, cilindrada):\n",
        "    self._cilindrada = cilindrada\n",
        "\n",
        "#def mostrar_datos(self):\n",
        "#print(f\"coche es de la marca{self._marca}\")\n",
        "#Lo podemos hacer asi tambien print(f\"es un/a {self.marca} y mi nombre es {self.modelo} con {self.fechadfabricacion} patas y soy {self.consumo} y me encanta {self.tp_motor} con itv :{self.itv} {self.airbag} y con {self.n_puertas} \")\n",
        "\n",
        "audi = coche(\"Audi\",\"A3\",\"2001\",\"5L/100\",\" 2.0 Diesel\",\"10.01.2025\",\"Si\",\"5\")\n",
        "yamaha = moto(\"Yamaha\",\"TMAX\",\"2015\",\"6L/100\",\"Gasolina\",\"15.12.2024\",\"530 cc \")\n",
        "\n",
        "#audi.getMarca()\n",
        "\n",
        "audi.getTPmotor()\n",
        "\n"
      ],
      "metadata": {
        "id": "I5m-hlPUKC6S",
        "colab": {
          "base_uri": "https://localhost:8080/",
          "height": 35
        },
        "outputId": "b94207ba-de0d-46de-e47c-dbb49f181cfc"
      },
      "execution_count": 15,
      "outputs": [
        {
          "output_type": "execute_result",
          "data": {
            "text/plain": [
              "' 2.0 Diesel'"
            ],
            "application/vnd.google.colaboratory.intrinsic+json": {
              "type": "string"
            }
          },
          "metadata": {},
          "execution_count": 15
        }
      ]
    },
    {
      "cell_type": "markdown",
      "source": [
        "***📁 Segundo ejercicio:*** Crea varios objetos de las clases coche y motocicletas y rellénalos. Crea un archivo `concesionario.txt` y escribe en él los datos dee dichos objetos. Lee de nuevo el archivo algún ejemplo e imprímelo por pantalla. Es obligatorio utilizar las excepciones cuando se escriba en el fichero."
      ],
      "metadata": {
        "id": "IAzzulsEzD8W"
      }
    },
    {
      "cell_type": "code",
      "source": [
        "\n",
        "file = open(\"Concesionario.txt\",\"w\")\n",
        "file.write(\"Coche es de la marca {},\".format(audi.getMarca()))\n",
        "file.write(\" el motor es {} ,\".format(audi.getModelo()))\n",
        "file.write(\"el consumo del coche {} ,\".format(audi.getConsumo()))\n",
        "file.close()\n",
        "\n",
        "try:\n",
        "  file = open (\"Concesionario.txt\",\"r\")\n",
        "  print(file.readline())\n",
        "except:\n",
        "  print(\"Error\")\n",
        "\n",
        "#archivo.write(\"Marca{},Modelo{},fechaf{},Consumo{},\"tp_motor\")\n",
        "\n",
        "\n"
      ],
      "metadata": {
        "id": "kJH7o-vBKEUx",
        "colab": {
          "base_uri": "https://localhost:8080/"
        },
        "outputId": "c182122b-8fc3-49e7-cdd8-2e4e687d50e7"
      },
      "execution_count": 14,
      "outputs": [
        {
          "output_type": "stream",
          "name": "stdout",
          "text": [
            "Coche es de la marca Audi, el motor es A3 ,el consumo del coche 5L/100 ,\n"
          ]
        }
      ]
    }
  ]
}