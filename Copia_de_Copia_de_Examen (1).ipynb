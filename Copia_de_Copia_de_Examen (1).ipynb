{
  "nbformat": 4,
  "nbformat_minor": 0,
  "metadata": {
    "colab": {
      "provenance": []
    },
    "kernelspec": {
      "name": "python3",
      "display_name": "Python 3"
    },
    "language_info": {
      "name": "python"
    }
  },
  "cells": [
    {
      "cell_type": "code",
      "execution_count": null,
      "metadata": {
        "id": "fK97y7x_vA_5"
      },
      "outputs": [],
      "source": []
    },
    {
      "cell_type": "code",
      "source": [
        "#Primer ejercicio Listo .\n",
        "\n",
        "print(\"Para Poder Participar al Sorteo Tienen que contestar a las preguntas siguientes :\")\n",
        "edad = int(input(\"Cuantos Años Tienes ??\"))\n",
        "nota_en_la_ESO = float(input(\" Cual es tu nota de la ESO ?? \"))\n",
        "if edad < 16:\n",
        "    print (\"\")\n",
        "elif nota_en_la_ESO  >= 5.2:\n",
        "  print(\"En Hora Buena eres Apto Para Participar\")\n",
        "else:\n",
        "    print(\"Losentimos !! Pero No Puedes Participar.\")"
      ],
      "metadata": {
        "id": "9YlZSRwVvgBT"
      },
      "execution_count": null,
      "outputs": []
    },
    {
      "cell_type": "code",
      "source": [
        "#Segundo ejercicio No Listo .\n",
        "contraseña1 = input('Introduce la contraseña : ')\n",
        "contraseña2 = 123456\n",
        "nombre = input(\"Introduce su usario : \")\n",
        "while (contraseña1 != contraseña2):\n",
        "\n",
        "    if usuario in ['Nadjib']:\n",
        "      print(\"Usuario Corecto\")\n",
        "    elif contraseña in ['123456']:\n",
        "      print(\"Contraseña Corecta\")\n",
        "\n",
        "    else:\n",
        "      print('Vuelva a introducir la contaseña')\n",
        "print(\"Usuario registrado corectamente\")\n"
      ],
      "metadata": {
        "id": "Upzx3hirxvxk"
      },
      "execution_count": null,
      "outputs": []
    },
    {
      "cell_type": "code",
      "source": [
        "#Segundo ejercicio Listo.\n",
        "usuario = input(\"Introduce Usuario \")\n",
        "contraseña1 = input(\"Introduce Contraseña\")\n",
        "contraseña2 = input(\"Introduce la Segunda Contraseña\")\n",
        "while contraseña1 != contraseña2:\n",
        "  print(\"\")\n",
        "  contraseña2 = input(\"Introduce Otra vez la Contraseña\")\n",
        "print(\"Usuario registrado corectamente\")"
      ],
      "metadata": {
        "id": "URISHnrBdtqE"
      },
      "execution_count": null,
      "outputs": []
    },
    {
      "cell_type": "code",
      "source": [
        "#Tercer ejercicio Listo .\n",
        "\n",
        "nota1 = float (input(\"ingresa la primera nota: \"))\n",
        "nota2 = float (input(\"ingresa la segunda nota: \"))\n",
        "nota3 = float (input(\"ingresa la tercera nota: \"))\n",
        "suma = nota1 + nota2 +nota3\n",
        "notas_finales = suma / 3\n",
        "def nota_final():\n",
        "  print(\"La nota final es :\",notas_finales)\n",
        "nota_final()\n"
      ],
      "metadata": {
        "id": "FRhjEF_jxx8L"
      },
      "execution_count": null,
      "outputs": []
    },
    {
      "cell_type": "code",
      "source": [
        "print(\"1 de Libras a Euros\")\n",
        "print(\"2 de Yenes a Euros\")\n",
        "\n",
        "\n",
        "op=int(input(\"Que moneda quieres convertir ?? \"))\n",
        "\n",
        "if op==1:\n",
        "  libra=float(input(\"introdusca cantidad de Libras \"))\n",
        "  Euro =libra*(1.17)\n",
        "  print (\"En Euros =\", euro)\n",
        "elif op==2:\n",
        "  Yenes=float(input(\"introdusca catidad de Yenes :\"))\n",
        "  Yenes = Yenes*(0.0062)\n",
        "  print(\"En Euros =\", euro)\n",
        "else:\n",
        "  print(\"Eliga otra opcion\")\n"
      ],
      "metadata": {
        "id": "U8_xGuLOVODy"
      },
      "execution_count": null,
      "outputs": []
    },
    {
      "cell_type": "code",
      "source": [
        "print(\"1 de Libras a Euros\")\n",
        "print(\"2 de Yenes a Euros\")\n",
        "\n",
        "op=int(input(\"Que moneda quieres convertir ?? \"))\n",
        "\n",
        "if op==1:\n",
        "  libra=float(input(\"introdusca cantidad de Libras \"))\n",
        "  euro =libra*(1.17)\n",
        "  print (\"En Euros =\", euro)\n",
        "elif op==2:\n",
        "  yenes=float(input(\"introdusca catidad de Yenes :\"))\n",
        "  euro = yenes*(0.0062)\n",
        "  print(\"En Euros =\", euro)\n",
        "else:\n",
        "  print(\"Vuelve a lanzar la app\")"
      ],
      "metadata": {
        "id": "zrjTlJDCdC0G"
      },
      "execution_count": null,
      "outputs": []
    }
  ]
}